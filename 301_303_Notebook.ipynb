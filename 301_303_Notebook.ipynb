{
 "cells": [
  {
   "cell_type": "code",
   "execution_count": 2,
   "metadata": {},
   "outputs": [],
   "source": [
    "import pandas as pd\n",
    "import numpy as np\n",
    "import seaborn as sns\n",
    "import matplotlib.pyplot as plt\n",
    "from sklearn.model_selection import train_test_split\n",
    "from sklearn.metrics import (\n",
    "    confusion_matrix,\n",
    "    accuracy_score,\n",
    "    classification_report,\n",
    "    precision_score,\n",
    "    recall_score,\n",
    "    f1_score\n",
    ")"
   ]
  },
  {
   "attachments": {},
   "cell_type": "markdown",
   "metadata": {},
   "source": [
    "age: Umur seseorang dalam tahun\n",
    "sex: Jenis Kelamin (1 = pria, 0 = wanita)\n",
    "cp: Nyeri dada yang dialami Jenis (1: tipikal nyeri dada (angina), Value 2: nyeri dada (angina) yang tidak biasa, Value 3: nyeri non-angina, Value 4: tanpa gejala) \n",
    "trestbps: Tekanan darah (mm Hg)\n",
    "chol: Kolesterol seseorang (mg/dl)\n",
    "fbs: Tingkat gula darah (> 120 mg/dl, 1 = true; 0 = false)\n",
    "restecg: Pengukuran elektrokardiografi (0 = normal, 1 = memiliki sinyal ST-T yang tidak normal, 2 = menunjukkan kemungkinan atau pasti hipertrofi ventrikel kiri dengan kriteria Estes)\n",
    "thalach: Detak jantung maksimal\n",
    "exang: Latihan diinduksi angina (1 = ya; 0 = tidak)\n",
    "oldpeak: Depresi ST yang diinduksi oleh olahraga relatif terhadap istirahat ('ST' berhubungan dengan posisi pada plot EKG)\n",
    "slope: kemiringan segmen ST latihan puncak (Nilai 1: miring ke atas, Nilai 2: datar, Nilai 3: miring ke bawah)\n",
    "ca: Nomor dari banyaknya pembuluh (0-3)\n",
    "thal: Penyakit kelainan darah yang disebut talasemia (3 = normal; 6 = cacat tetap; 7 = cacat reversibel)\n",
    "target: Penyakit jantung (0 = tidak, 1 = ya)"
   ]
  },
  {
   "cell_type": "code",
   "execution_count": 3,
   "metadata": {},
   "outputs": [
    {
     "data": {
      "text/html": [
       "<div>\n",
       "<style scoped>\n",
       "    .dataframe tbody tr th:only-of-type {\n",
       "        vertical-align: middle;\n",
       "    }\n",
       "\n",
       "    .dataframe tbody tr th {\n",
       "        vertical-align: top;\n",
       "    }\n",
       "\n",
       "    .dataframe thead th {\n",
       "        text-align: right;\n",
       "    }\n",
       "</style>\n",
       "<table border=\"1\" class=\"dataframe\">\n",
       "  <thead>\n",
       "    <tr style=\"text-align: right;\">\n",
       "      <th></th>\n",
       "      <th>age</th>\n",
       "      <th>sex</th>\n",
       "      <th>cp</th>\n",
       "      <th>trestbps</th>\n",
       "      <th>chol</th>\n",
       "      <th>fbs</th>\n",
       "      <th>restecg</th>\n",
       "      <th>thalach</th>\n",
       "      <th>exang</th>\n",
       "      <th>oldpeak</th>\n",
       "      <th>slope</th>\n",
       "      <th>ca</th>\n",
       "      <th>thal</th>\n",
       "      <th>target</th>\n",
       "    </tr>\n",
       "  </thead>\n",
       "  <tbody>\n",
       "    <tr>\n",
       "      <th>0</th>\n",
       "      <td>52</td>\n",
       "      <td>1</td>\n",
       "      <td>0</td>\n",
       "      <td>125</td>\n",
       "      <td>212</td>\n",
       "      <td>0</td>\n",
       "      <td>1</td>\n",
       "      <td>168</td>\n",
       "      <td>0</td>\n",
       "      <td>1.0</td>\n",
       "      <td>2</td>\n",
       "      <td>2</td>\n",
       "      <td>3</td>\n",
       "      <td>0</td>\n",
       "    </tr>\n",
       "    <tr>\n",
       "      <th>1</th>\n",
       "      <td>53</td>\n",
       "      <td>1</td>\n",
       "      <td>0</td>\n",
       "      <td>140</td>\n",
       "      <td>203</td>\n",
       "      <td>1</td>\n",
       "      <td>0</td>\n",
       "      <td>155</td>\n",
       "      <td>1</td>\n",
       "      <td>3.1</td>\n",
       "      <td>0</td>\n",
       "      <td>0</td>\n",
       "      <td>3</td>\n",
       "      <td>0</td>\n",
       "    </tr>\n",
       "    <tr>\n",
       "      <th>2</th>\n",
       "      <td>70</td>\n",
       "      <td>1</td>\n",
       "      <td>0</td>\n",
       "      <td>145</td>\n",
       "      <td>174</td>\n",
       "      <td>0</td>\n",
       "      <td>1</td>\n",
       "      <td>125</td>\n",
       "      <td>1</td>\n",
       "      <td>2.6</td>\n",
       "      <td>0</td>\n",
       "      <td>0</td>\n",
       "      <td>3</td>\n",
       "      <td>0</td>\n",
       "    </tr>\n",
       "    <tr>\n",
       "      <th>3</th>\n",
       "      <td>61</td>\n",
       "      <td>1</td>\n",
       "      <td>0</td>\n",
       "      <td>148</td>\n",
       "      <td>203</td>\n",
       "      <td>0</td>\n",
       "      <td>1</td>\n",
       "      <td>161</td>\n",
       "      <td>0</td>\n",
       "      <td>0.0</td>\n",
       "      <td>2</td>\n",
       "      <td>1</td>\n",
       "      <td>3</td>\n",
       "      <td>0</td>\n",
       "    </tr>\n",
       "    <tr>\n",
       "      <th>4</th>\n",
       "      <td>62</td>\n",
       "      <td>0</td>\n",
       "      <td>0</td>\n",
       "      <td>138</td>\n",
       "      <td>294</td>\n",
       "      <td>1</td>\n",
       "      <td>1</td>\n",
       "      <td>106</td>\n",
       "      <td>0</td>\n",
       "      <td>1.9</td>\n",
       "      <td>1</td>\n",
       "      <td>3</td>\n",
       "      <td>2</td>\n",
       "      <td>0</td>\n",
       "    </tr>\n",
       "  </tbody>\n",
       "</table>\n",
       "</div>"
      ],
      "text/plain": [
       "   age  sex  cp  trestbps  chol  fbs  restecg  thalach  exang  oldpeak  slope  \\\n",
       "0   52    1   0       125   212    0        1      168      0      1.0      2   \n",
       "1   53    1   0       140   203    1        0      155      1      3.1      0   \n",
       "2   70    1   0       145   174    0        1      125      1      2.6      0   \n",
       "3   61    1   0       148   203    0        1      161      0      0.0      2   \n",
       "4   62    0   0       138   294    1        1      106      0      1.9      1   \n",
       "\n",
       "   ca  thal  target  \n",
       "0   2     3       0  \n",
       "1   0     3       0  \n",
       "2   0     3       0  \n",
       "3   1     3       0  \n",
       "4   3     2       0  "
      ]
     },
     "execution_count": 3,
     "metadata": {},
     "output_type": "execute_result"
    }
   ],
   "source": [
    "# Read dataset\n",
    "df = pd.read_csv('./heart.csv')\n",
    "\n",
    "df.head()"
   ]
  },
  {
   "cell_type": "code",
   "execution_count": 4,
   "metadata": {},
   "outputs": [
    {
     "data": {
      "text/html": [
       "<div>\n",
       "<style scoped>\n",
       "    .dataframe tbody tr th:only-of-type {\n",
       "        vertical-align: middle;\n",
       "    }\n",
       "\n",
       "    .dataframe tbody tr th {\n",
       "        vertical-align: top;\n",
       "    }\n",
       "\n",
       "    .dataframe thead th {\n",
       "        text-align: right;\n",
       "    }\n",
       "</style>\n",
       "<table border=\"1\" class=\"dataframe\">\n",
       "  <thead>\n",
       "    <tr style=\"text-align: right;\">\n",
       "      <th></th>\n",
       "      <th>age</th>\n",
       "      <th>sex</th>\n",
       "      <th>cp</th>\n",
       "      <th>trestbps</th>\n",
       "      <th>chol</th>\n",
       "      <th>fbs</th>\n",
       "      <th>restecg</th>\n",
       "      <th>thalach</th>\n",
       "      <th>exang</th>\n",
       "      <th>oldpeak</th>\n",
       "      <th>slope</th>\n",
       "      <th>ca</th>\n",
       "      <th>thal</th>\n",
       "      <th>target</th>\n",
       "    </tr>\n",
       "  </thead>\n",
       "  <tbody>\n",
       "    <tr>\n",
       "      <th>1020</th>\n",
       "      <td>59</td>\n",
       "      <td>1</td>\n",
       "      <td>1</td>\n",
       "      <td>140</td>\n",
       "      <td>221</td>\n",
       "      <td>0</td>\n",
       "      <td>1</td>\n",
       "      <td>164</td>\n",
       "      <td>1</td>\n",
       "      <td>0.0</td>\n",
       "      <td>2</td>\n",
       "      <td>0</td>\n",
       "      <td>2</td>\n",
       "      <td>1</td>\n",
       "    </tr>\n",
       "    <tr>\n",
       "      <th>1021</th>\n",
       "      <td>60</td>\n",
       "      <td>1</td>\n",
       "      <td>0</td>\n",
       "      <td>125</td>\n",
       "      <td>258</td>\n",
       "      <td>0</td>\n",
       "      <td>0</td>\n",
       "      <td>141</td>\n",
       "      <td>1</td>\n",
       "      <td>2.8</td>\n",
       "      <td>1</td>\n",
       "      <td>1</td>\n",
       "      <td>3</td>\n",
       "      <td>0</td>\n",
       "    </tr>\n",
       "    <tr>\n",
       "      <th>1022</th>\n",
       "      <td>47</td>\n",
       "      <td>1</td>\n",
       "      <td>0</td>\n",
       "      <td>110</td>\n",
       "      <td>275</td>\n",
       "      <td>0</td>\n",
       "      <td>0</td>\n",
       "      <td>118</td>\n",
       "      <td>1</td>\n",
       "      <td>1.0</td>\n",
       "      <td>1</td>\n",
       "      <td>1</td>\n",
       "      <td>2</td>\n",
       "      <td>0</td>\n",
       "    </tr>\n",
       "    <tr>\n",
       "      <th>1023</th>\n",
       "      <td>50</td>\n",
       "      <td>0</td>\n",
       "      <td>0</td>\n",
       "      <td>110</td>\n",
       "      <td>254</td>\n",
       "      <td>0</td>\n",
       "      <td>0</td>\n",
       "      <td>159</td>\n",
       "      <td>0</td>\n",
       "      <td>0.0</td>\n",
       "      <td>2</td>\n",
       "      <td>0</td>\n",
       "      <td>2</td>\n",
       "      <td>1</td>\n",
       "    </tr>\n",
       "    <tr>\n",
       "      <th>1024</th>\n",
       "      <td>54</td>\n",
       "      <td>1</td>\n",
       "      <td>0</td>\n",
       "      <td>120</td>\n",
       "      <td>188</td>\n",
       "      <td>0</td>\n",
       "      <td>1</td>\n",
       "      <td>113</td>\n",
       "      <td>0</td>\n",
       "      <td>1.4</td>\n",
       "      <td>1</td>\n",
       "      <td>1</td>\n",
       "      <td>3</td>\n",
       "      <td>0</td>\n",
       "    </tr>\n",
       "  </tbody>\n",
       "</table>\n",
       "</div>"
      ],
      "text/plain": [
       "      age  sex  cp  trestbps  chol  fbs  restecg  thalach  exang  oldpeak  \\\n",
       "1020   59    1   1       140   221    0        1      164      1      0.0   \n",
       "1021   60    1   0       125   258    0        0      141      1      2.8   \n",
       "1022   47    1   0       110   275    0        0      118      1      1.0   \n",
       "1023   50    0   0       110   254    0        0      159      0      0.0   \n",
       "1024   54    1   0       120   188    0        1      113      0      1.4   \n",
       "\n",
       "      slope  ca  thal  target  \n",
       "1020      2   0     2       1  \n",
       "1021      1   1     3       0  \n",
       "1022      1   1     2       0  \n",
       "1023      2   0     2       1  \n",
       "1024      1   1     3       0  "
      ]
     },
     "execution_count": 4,
     "metadata": {},
     "output_type": "execute_result"
    }
   ],
   "source": [
    "df.tail()"
   ]
  },
  {
   "cell_type": "code",
   "execution_count": 5,
   "metadata": {},
   "outputs": [
    {
     "name": "stdout",
     "output_type": "stream",
     "text": [
      "<class 'pandas.core.frame.DataFrame'>\n",
      "RangeIndex: 1025 entries, 0 to 1024\n",
      "Data columns (total 14 columns):\n",
      " #   Column    Non-Null Count  Dtype  \n",
      "---  ------    --------------  -----  \n",
      " 0   age       1025 non-null   int64  \n",
      " 1   sex       1025 non-null   int64  \n",
      " 2   cp        1025 non-null   int64  \n",
      " 3   trestbps  1025 non-null   int64  \n",
      " 4   chol      1025 non-null   int64  \n",
      " 5   fbs       1025 non-null   int64  \n",
      " 6   restecg   1025 non-null   int64  \n",
      " 7   thalach   1025 non-null   int64  \n",
      " 8   exang     1025 non-null   int64  \n",
      " 9   oldpeak   1025 non-null   float64\n",
      " 10  slope     1025 non-null   int64  \n",
      " 11  ca        1025 non-null   int64  \n",
      " 12  thal      1025 non-null   int64  \n",
      " 13  target    1025 non-null   int64  \n",
      "dtypes: float64(1), int64(13)\n",
      "memory usage: 112.2 KB\n"
     ]
    }
   ],
   "source": [
    "# data info menunukkan bahwa data sudah bertipe numerical\n",
    "df.info()"
   ]
  },
  {
   "cell_type": "code",
   "execution_count": 6,
   "metadata": {},
   "outputs": [
    {
     "data": {
      "text/plain": [
       "age         0\n",
       "sex         0\n",
       "cp          0\n",
       "trestbps    0\n",
       "chol        0\n",
       "fbs         0\n",
       "restecg     0\n",
       "thalach     0\n",
       "exang       0\n",
       "oldpeak     0\n",
       "slope       0\n",
       "ca          0\n",
       "thal        0\n",
       "target      0\n",
       "dtype: int64"
      ]
     },
     "execution_count": 6,
     "metadata": {},
     "output_type": "execute_result"
    }
   ],
   "source": [
    "# mengecek nilai null\n",
    "df.isna().sum()"
   ]
  },
  {
   "cell_type": "code",
   "execution_count": 7,
   "metadata": {},
   "outputs": [
    {
     "data": {
      "text/plain": [
       "(1025, 14)"
      ]
     },
     "execution_count": 7,
     "metadata": {},
     "output_type": "execute_result"
    }
   ],
   "source": [
    "df.shape"
   ]
  },
  {
   "cell_type": "code",
   "execution_count": 8,
   "metadata": {},
   "outputs": [
    {
     "data": {
      "image/png": "[encoded data removed]",
      "text/plain": [
       "<Figure size 432x288 with 1 Axes>"
      ]
     },
     "metadata": {
      "needs_background": "light"
     },
     "output_type": "display_data"
    }
   ],
   "source": [
    "# visuasisasi perbandingan data target penyakit jantung\n",
    "counts = df['target'].value_counts()\n",
    "\n",
    "fig, ax = plt.subplots()\n",
    "ax.bar(counts.index, counts.values, color=['yellow', 'blue'], label=['0', '1'])\n",
    "ax.legend()\n",
    "plt.show()"
   ]
  },
  {
   "attachments": {},
   "cell_type": "markdown",
   "metadata": {},
   "source": [
    "## Normalization"
   ]
  },
  {
   "attachments": {},
   "cell_type": "markdown",
   "metadata": {},
   "source": [
    "Metode normalisasi yang digunakan adalah Standard Scaler"
   ]
  },
  {
   "cell_type": "code",
   "execution_count": 9,
   "metadata": {},
   "outputs": [],
   "source": [
    "# Memisahkan label dengan data target\n",
    "X = df.iloc[:,:-1]\n",
    "y = df.iloc[:,-1]"
   ]
  },
  {
   "cell_type": "code",
   "execution_count": 10,
   "metadata": {},
   "outputs": [],
   "source": [
    "# Proses Normalisasi data menggunakan Standard Scaler\n",
    "\n",
    "from sklearn.preprocessing import StandardScaler\n",
    "scaler = StandardScaler()\n",
    "X = scaler.fit_transform(X)\n",
    "X_df = pd.DataFrame(X, columns=df.iloc[:,:-1].columns)\n",
    "X_scaled = pd.DataFrame(X)"
   ]
  },
  {
   "cell_type": "code",
   "execution_count": 11,
   "metadata": {},
   "outputs": [
    {
     "data": {
      "text/html": [
       "<div>\n",
       "<style scoped>\n",
       "    .dataframe tbody tr th:only-of-type {\n",
       "        vertical-align: middle;\n",
       "    }\n",
       "\n",
       "    .dataframe tbody tr th {\n",
       "        vertical-align: top;\n",
       "    }\n",
       "\n",
       "    .dataframe thead th {\n",
       "        text-align: right;\n",
       "    }\n",
       "</style>\n",
       "<table border=\"1\" class=\"dataframe\">\n",
       "  <thead>\n",
       "    <tr style=\"text-align: right;\">\n",
       "      <th></th>\n",
       "      <th>age</th>\n",
       "      <th>sex</th>\n",
       "      <th>cp</th>\n",
       "      <th>trestbps</th>\n",
       "      <th>chol</th>\n",
       "      <th>fbs</th>\n",
       "      <th>restecg</th>\n",
       "      <th>thalach</th>\n",
       "      <th>exang</th>\n",
       "      <th>oldpeak</th>\n",
       "      <th>slope</th>\n",
       "      <th>ca</th>\n",
       "      <th>thal</th>\n",
       "    </tr>\n",
       "  </thead>\n",
       "  <tbody>\n",
       "    <tr>\n",
       "      <th>0</th>\n",
       "      <td>-0.268437</td>\n",
       "      <td>0.661504</td>\n",
       "      <td>-0.915755</td>\n",
       "      <td>-0.377636</td>\n",
       "      <td>-0.659332</td>\n",
       "      <td>-0.418878</td>\n",
       "      <td>0.891255</td>\n",
       "      <td>0.821321</td>\n",
       "      <td>-0.712287</td>\n",
       "      <td>-0.060888</td>\n",
       "      <td>0.995433</td>\n",
       "      <td>1.209221</td>\n",
       "      <td>1.089852</td>\n",
       "    </tr>\n",
       "    <tr>\n",
       "      <th>1</th>\n",
       "      <td>-0.158157</td>\n",
       "      <td>0.661504</td>\n",
       "      <td>-0.915755</td>\n",
       "      <td>0.479107</td>\n",
       "      <td>-0.833861</td>\n",
       "      <td>2.387330</td>\n",
       "      <td>-1.004049</td>\n",
       "      <td>0.255968</td>\n",
       "      <td>1.403928</td>\n",
       "      <td>1.727137</td>\n",
       "      <td>-2.243675</td>\n",
       "      <td>-0.731971</td>\n",
       "      <td>1.089852</td>\n",
       "    </tr>\n",
       "    <tr>\n",
       "      <th>2</th>\n",
       "      <td>1.716595</td>\n",
       "      <td>0.661504</td>\n",
       "      <td>-0.915755</td>\n",
       "      <td>0.764688</td>\n",
       "      <td>-1.396233</td>\n",
       "      <td>-0.418878</td>\n",
       "      <td>0.891255</td>\n",
       "      <td>-1.048692</td>\n",
       "      <td>1.403928</td>\n",
       "      <td>1.301417</td>\n",
       "      <td>-2.243675</td>\n",
       "      <td>-0.731971</td>\n",
       "      <td>1.089852</td>\n",
       "    </tr>\n",
       "    <tr>\n",
       "      <th>3</th>\n",
       "      <td>0.724079</td>\n",
       "      <td>0.661504</td>\n",
       "      <td>-0.915755</td>\n",
       "      <td>0.936037</td>\n",
       "      <td>-0.833861</td>\n",
       "      <td>-0.418878</td>\n",
       "      <td>0.891255</td>\n",
       "      <td>0.516900</td>\n",
       "      <td>-0.712287</td>\n",
       "      <td>-0.912329</td>\n",
       "      <td>0.995433</td>\n",
       "      <td>0.238625</td>\n",
       "      <td>1.089852</td>\n",
       "    </tr>\n",
       "    <tr>\n",
       "      <th>4</th>\n",
       "      <td>0.834359</td>\n",
       "      <td>-1.511706</td>\n",
       "      <td>-0.915755</td>\n",
       "      <td>0.364875</td>\n",
       "      <td>0.930822</td>\n",
       "      <td>2.387330</td>\n",
       "      <td>0.891255</td>\n",
       "      <td>-1.874977</td>\n",
       "      <td>-0.712287</td>\n",
       "      <td>0.705408</td>\n",
       "      <td>-0.624121</td>\n",
       "      <td>2.179817</td>\n",
       "      <td>-0.522122</td>\n",
       "    </tr>\n",
       "    <tr>\n",
       "      <th>...</th>\n",
       "      <td>...</td>\n",
       "      <td>...</td>\n",
       "      <td>...</td>\n",
       "      <td>...</td>\n",
       "      <td>...</td>\n",
       "      <td>...</td>\n",
       "      <td>...</td>\n",
       "      <td>...</td>\n",
       "      <td>...</td>\n",
       "      <td>...</td>\n",
       "      <td>...</td>\n",
       "      <td>...</td>\n",
       "      <td>...</td>\n",
       "    </tr>\n",
       "    <tr>\n",
       "      <th>1020</th>\n",
       "      <td>0.503520</td>\n",
       "      <td>0.661504</td>\n",
       "      <td>0.055931</td>\n",
       "      <td>0.479107</td>\n",
       "      <td>-0.484803</td>\n",
       "      <td>-0.418878</td>\n",
       "      <td>0.891255</td>\n",
       "      <td>0.647366</td>\n",
       "      <td>1.403928</td>\n",
       "      <td>-0.912329</td>\n",
       "      <td>0.995433</td>\n",
       "      <td>-0.731971</td>\n",
       "      <td>-0.522122</td>\n",
       "    </tr>\n",
       "    <tr>\n",
       "      <th>1021</th>\n",
       "      <td>0.613800</td>\n",
       "      <td>0.661504</td>\n",
       "      <td>-0.915755</td>\n",
       "      <td>-0.377636</td>\n",
       "      <td>0.232705</td>\n",
       "      <td>-0.418878</td>\n",
       "      <td>-1.004049</td>\n",
       "      <td>-0.352873</td>\n",
       "      <td>1.403928</td>\n",
       "      <td>1.471705</td>\n",
       "      <td>-0.624121</td>\n",
       "      <td>0.238625</td>\n",
       "      <td>1.089852</td>\n",
       "    </tr>\n",
       "    <tr>\n",
       "      <th>1022</th>\n",
       "      <td>-0.819834</td>\n",
       "      <td>0.661504</td>\n",
       "      <td>-0.915755</td>\n",
       "      <td>-1.234378</td>\n",
       "      <td>0.562371</td>\n",
       "      <td>-0.418878</td>\n",
       "      <td>-1.004049</td>\n",
       "      <td>-1.353113</td>\n",
       "      <td>1.403928</td>\n",
       "      <td>-0.060888</td>\n",
       "      <td>-0.624121</td>\n",
       "      <td>0.238625</td>\n",
       "      <td>-0.522122</td>\n",
       "    </tr>\n",
       "    <tr>\n",
       "      <th>1023</th>\n",
       "      <td>-0.488996</td>\n",
       "      <td>-1.511706</td>\n",
       "      <td>-0.915755</td>\n",
       "      <td>-1.234378</td>\n",
       "      <td>0.155137</td>\n",
       "      <td>-0.418878</td>\n",
       "      <td>-1.004049</td>\n",
       "      <td>0.429923</td>\n",
       "      <td>-0.712287</td>\n",
       "      <td>-0.912329</td>\n",
       "      <td>0.995433</td>\n",
       "      <td>-0.731971</td>\n",
       "      <td>-0.522122</td>\n",
       "    </tr>\n",
       "    <tr>\n",
       "      <th>1024</th>\n",
       "      <td>-0.047877</td>\n",
       "      <td>0.661504</td>\n",
       "      <td>-0.915755</td>\n",
       "      <td>-0.663216</td>\n",
       "      <td>-1.124743</td>\n",
       "      <td>-0.418878</td>\n",
       "      <td>0.891255</td>\n",
       "      <td>-1.570556</td>\n",
       "      <td>-0.712287</td>\n",
       "      <td>0.279688</td>\n",
       "      <td>-0.624121</td>\n",
       "      <td>0.238625</td>\n",
       "      <td>1.089852</td>\n",
       "    </tr>\n",
       "  </tbody>\n",
       "</table>\n",
       "<p>1025 rows × 13 columns</p>\n",
       "</div>"
      ],
      "text/plain": [
       "           age       sex        cp  trestbps      chol       fbs   restecg  \\\n",
       "0    -0.268437  0.661504 -0.915755 -0.377636 -0.659332 -0.418878  0.891255   \n",
       "1    -0.158157  0.661504 -0.915755  0.479107 -0.833861  2.387330 -1.004049   \n",
       "2     1.716595  0.661504 -0.915755  0.764688 -1.396233 -0.418878  0.891255   \n",
       "3     0.724079  0.661504 -0.915755  0.936037 -0.833861 -0.418878  0.891255   \n",
       "4     0.834359 -1.511706 -0.915755  0.364875  0.930822  2.387330  0.891255   \n",
       "...        ...       ...       ...       ...       ...       ...       ...   \n",
       "1020  0.503520  0.661504  0.055931  0.479107 -0.484803 -0.418878  0.891255   \n",
       "1021  0.613800  0.661504 -0.915755 -0.377636  0.232705 -0.418878 -1.004049   \n",
       "1022 -0.819834  0.661504 -0.915755 -1.234378  0.562371 -0.418878 -1.004049   \n",
       "1023 -0.488996 -1.511706 -0.915755 -1.234378  0.155137 -0.418878 -1.004049   \n",
       "1024 -0.047877  0.661504 -0.915755 -0.663216 -1.124743 -0.418878  0.891255   \n",
       "\n",
       "       thalach     exang   oldpeak     slope        ca      thal  \n",
       "0     0.821321 -0.712287 -0.060888  0.995433  1.209221  1.089852  \n",
       "1     0.255968  1.403928  1.727137 -2.243675 -0.731971  1.089852  \n",
       "2    -1.048692  1.403928  1.301417 -2.243675 -0.731971  1.089852  \n",
       "3     0.516900 -0.712287 -0.912329  0.995433  0.238625  1.089852  \n",
       "4    -1.874977 -0.712287  0.705408 -0.624121  2.179817 -0.522122  \n",
       "...        ...       ...       ...       ...       ...       ...  \n",
       "1020  0.647366  1.403928 -0.912329  0.995433 -0.731971 -0.522122  \n",
       "1021 -0.352873  1.403928  1.471705 -0.624121  0.238625  1.089852  \n",
       "1022 -1.353113  1.403928 -0.060888 -0.624121  0.238625 -0.522122  \n",
       "1023  0.429923 -0.712287 -0.912329  0.995433 -0.731971 -0.522122  \n",
       "1024 -1.570556 -0.712287  0.279688 -0.624121  0.238625  1.089852  \n",
       "\n",
       "[1025 rows x 13 columns]"
      ]
     },
     "execution_count": 11,
     "metadata": {},
     "output_type": "execute_result"
    }
   ],
   "source": [
    "# Hasil data yang sudah di normalisasi dengan standard scaler\n",
    "X_df"
   ]
  },
  {
   "cell_type": "code",
   "execution_count": 12,
   "metadata": {},
   "outputs": [
    {
     "data": {
      "text/plain": [
       "array([[-0.26843658,  0.66150409, -0.91575542, ...,  0.99543334,\n",
       "         1.20922066,  1.08985168],\n",
       "       [-0.15815703,  0.66150409, -0.91575542, ..., -2.24367514,\n",
       "        -0.73197147,  1.08985168],\n",
       "       [ 1.71659547,  0.66150409, -0.91575542, ..., -2.24367514,\n",
       "        -0.73197147,  1.08985168],\n",
       "       ...,\n",
       "       [-0.81983438,  0.66150409, -0.91575542, ..., -0.6241209 ,\n",
       "         0.23862459, -0.52212231],\n",
       "       [-0.4889957 , -1.51170646, -0.91575542, ...,  0.99543334,\n",
       "        -0.73197147, -0.52212231],\n",
       "       [-0.04787747,  0.66150409, -0.91575542, ..., -0.6241209 ,\n",
       "         0.23862459,  1.08985168]])"
      ]
     },
     "execution_count": 12,
     "metadata": {},
     "output_type": "execute_result"
    }
   ],
   "source": [
    "X"
   ]
  },
  {
   "cell_type": "code",
   "execution_count": 13,
   "metadata": {},
   "outputs": [
    {
     "data": {
      "text/plain": [
       "0       0\n",
       "1       0\n",
       "2       0\n",
       "3       0\n",
       "4       0\n",
       "       ..\n",
       "1020    1\n",
       "1021    0\n",
       "1022    0\n",
       "1023    1\n",
       "1024    0\n",
       "Name: target, Length: 1025, dtype: int64"
      ]
     },
     "execution_count": 13,
     "metadata": {},
     "output_type": "execute_result"
    }
   ],
   "source": [
    "y"
   ]
  },
  {
   "attachments": {},
   "cell_type": "markdown",
   "metadata": {},
   "source": [
    "## Train Test Split"
   ]
  },
  {
   "attachments": {},
   "cell_type": "markdown",
   "metadata": {},
   "source": [
    "Pada tahap ini data akan dipecah menjadi 2 bagian. Yang pertama merupakan data train, yang nantinya data tersebut akan di latih oleh model yang akan digunakan. Lalu yang kedua adalah data test, yang mana data ini akan diuji untuk menemukan hasil akurasinya. Persentase data test yang akan digunakan adalah 20% dari keseluruhan data."
   ]
  },
  {
   "cell_type": "code",
   "execution_count": 14,
   "metadata": {},
   "outputs": [],
   "source": [
    "X_train, X_test , y_train , y_test = train_test_split (X_scaled, y, test_size = 0.2, random_state =0)"
   ]
  },
  {
   "cell_type": "code",
   "execution_count": 15,
   "metadata": {},
   "outputs": [],
   "source": [
    "# ignore warning\n",
    "from warnings import simplefilter\n",
    "\n",
    "simplefilter(action='ignore', category=FutureWarning)"
   ]
  },
  {
   "attachments": {},
   "cell_type": "markdown",
   "metadata": {},
   "source": [
    "## Build Model and Cross Validation"
   ]
  },
  {
   "attachments": {},
   "cell_type": "markdown",
   "metadata": {},
   "source": [
    "Di tahap ini adalah prooses pembuatan pipeline untuk algoritma yang akan digunakan. Setelah itu akan dilakukkan cross validation menggunakan K-Fold dengan jumlah split sebesar 10."
   ]
  },
  {
   "cell_type": "code",
   "execution_count": 16,
   "metadata": {},
   "outputs": [
    {
     "name": "stdout",
     "output_type": "stream",
     "text": [
      "[0.84146341 0.8902439  0.82926829 0.81707317 0.82926829 0.7195122\n",
      " 0.80487805 0.80487805 0.79268293 0.84146341]\n",
      "Naive Bayes: 0.817073 (0.041535)\n",
      "[0.90243902 0.91463415 0.92682927 0.92682927 0.91463415 0.87804878\n",
      " 0.8902439  0.91463415 0.84146341 0.93902439]\n",
      "SVM: 0.904878 (0.027160)\n",
      "[0.87804878 0.86585366 0.85365854 0.82926829 0.85365854 0.7804878\n",
      " 0.79268293 0.80487805 0.80487805 0.87804878]\n",
      "KNN: 0.834146 (0.034579)\n",
      "[0.93902439 0.93902439 0.95121951 0.93902439 0.90243902 0.96341463\n",
      " 0.8902439  0.93902439 0.93902439 0.92682927]\n",
      "Neural Network: 0.932927 (0.020588)\n"
     ]
    }
   ],
   "source": [
    "from sklearn.naive_bayes import GaussianNB\n",
    "from sklearn.neural_network import MLPClassifier\n",
    "from sklearn.neighbors import KNeighborsClassifier\n",
    "from sklearn.svm import SVC\n",
    "from sklearn import model_selection\n",
    "\n",
    "# pembuatan model\n",
    "models = []\n",
    "models.append(('Naive Bayes', GaussianNB()))\n",
    "models.append(('SVM', SVC(gamma='auto')))\n",
    "models.append(('KNN', KNeighborsClassifier(n_neighbors=5)))\n",
    "models.append(('Neural Network', MLPClassifier(solver='lbfgs', max_iter=2000, random_state=1, hidden_layer_sizes=(5,2))))\n",
    "\n",
    "results = []\n",
    "names = []\n",
    "\n",
    "# cross validation using K-Fold\n",
    "for name, model in models:\n",
    "  kfold = model_selection.KFold(n_splits=10, random_state=5, shuffle=True)\n",
    "  cv_res = model_selection.cross_val_score(model, X_train, y_train, cv=kfold, scoring='accuracy')\n",
    "  print(cv_res)\n",
    "  results.append(cv_res)\n",
    "  names.append(name)\n",
    "  msg = '%s: %f (%f)' % (name, cv_res.mean(), cv_res.std())\n",
    "  print(msg)"
   ]
  },
  {
   "attachments": {},
   "cell_type": "markdown",
   "metadata": {},
   "source": [
    "Berikut adalah boxplot hasil cross validation sebanyak 10 kali. Dan bisa dilihat bahwa Neural Network memiliki akurasi yang tinggi jika dibandingkan dengan algoritma lainnya."
   ]
  },
  {
   "cell_type": "code",
   "execution_count": 17,
   "metadata": {},
   "outputs": [
    {
     "data": {
      "image/png": "[encoded data removed]",
      "text/plain": [
       "<Figure size 432x288 with 1 Axes>"
      ]
     },
     "metadata": {
      "needs_background": "light"
     },
     "output_type": "display_data"
    }
   ],
   "source": [
    "fig = plt.figure()\n",
    "fig.suptitle('Perbandingan')\n",
    "ax = fig.add_subplot(111)\n",
    "plt.boxplot(results)\n",
    "ax.set_xticklabels(names)\n",
    "plt.show()"
   ]
  },
  {
   "attachments": {},
   "cell_type": "markdown",
   "metadata": {},
   "source": [
    "Sekarang dilakukannya uji data train yang sudah dibuat tadi dengan pipeline model dari ke-empat algoritma machine learning."
   ]
  },
  {
   "cell_type": "code",
   "execution_count": 18,
   "metadata": {},
   "outputs": [
    {
     "name": "stdout",
     "output_type": "stream",
     "text": [
      "Naive Bayes :\n",
      "Accuracy:  0.8536585365853658\n",
      "Precision:  0.8347826086956521\n",
      "Recall:  0.897196261682243\n",
      "F1:  0.8648648648648648\n",
      "              precision    recall  f1-score   support\n",
      "\n",
      "           0       0.88      0.81      0.84        98\n",
      "           1       0.83      0.90      0.86       107\n",
      "\n",
      "    accuracy                           0.85       205\n",
      "   macro avg       0.86      0.85      0.85       205\n",
      "weighted avg       0.86      0.85      0.85       205\n",
      "\n",
      "SVM :\n",
      "Accuracy:  0.9658536585365853\n",
      "Precision:  0.9464285714285714\n",
      "Recall:  0.9906542056074766\n",
      "F1:  0.9680365296803651\n",
      "              precision    recall  f1-score   support\n",
      "\n",
      "           0       0.99      0.94      0.96        98\n",
      "           1       0.95      0.99      0.97       107\n",
      "\n",
      "    accuracy                           0.97       205\n",
      "   macro avg       0.97      0.96      0.97       205\n",
      "weighted avg       0.97      0.97      0.97       205\n",
      "\n",
      "KNN :\n",
      "Accuracy:  0.8780487804878049\n",
      "Precision:  0.8727272727272727\n",
      "Recall:  0.897196261682243\n",
      "F1:  0.8847926267281107\n",
      "              precision    recall  f1-score   support\n",
      "\n",
      "           0       0.88      0.86      0.87        98\n",
      "           1       0.87      0.90      0.88       107\n",
      "\n",
      "    accuracy                           0.88       205\n",
      "   macro avg       0.88      0.88      0.88       205\n",
      "weighted avg       0.88      0.88      0.88       205\n",
      "\n",
      "Neural Network :\n",
      "Accuracy:  0.9560975609756097\n",
      "Precision:  1.0\n",
      "Recall:  0.9158878504672897\n",
      "F1:  0.9560975609756098\n",
      "              precision    recall  f1-score   support\n",
      "\n",
      "           0       0.92      1.00      0.96        98\n",
      "           1       1.00      0.92      0.96       107\n",
      "\n",
      "    accuracy                           0.96       205\n",
      "   macro avg       0.96      0.96      0.96       205\n",
      "weighted avg       0.96      0.96      0.96       205\n",
      "\n"
     ]
    }
   ],
   "source": [
    "for name, model in models:\n",
    "  model.fit(X_train, y_train)\n",
    "  y_pred = model.predict(X_test)\n",
    "  print(name, \":\")\n",
    "  print('Accuracy: ', accuracy_score(y_test, y_pred))\n",
    "  print('Precision: ', precision_score(y_test, y_pred))\n",
    "  print('Recall: ', recall_score(y_test, y_pred))\n",
    "  print('F1: ',  f1_score(y_test, y_pred))\n",
    "  print(classification_report(y_test, y_pred))"
   ]
  },
  {
   "attachments": {},
   "cell_type": "markdown",
   "metadata": {},
   "source": [
    "Bisa dilihat SVM dan Neural Network memiliki akurasi diatas 90%."
   ]
  },
  {
   "attachments": {},
   "cell_type": "markdown",
   "metadata": {},
   "source": [
    "## Dimensional Reduction"
   ]
  },
  {
   "attachments": {},
   "cell_type": "markdown",
   "metadata": {},
   "source": [
    "Setelah melakukan uji data sebelumnya. kali ini kami akan mencoba untuk melakukkan dimensional reduction untuk mencari fitur dengan variasi yang rendah. Metode yang akan digunakan adalah Principal Component Analysis (PCA)."
   ]
  },
  {
   "cell_type": "code",
   "execution_count": 19,
   "metadata": {},
   "outputs": [
    {
     "data": {
      "text/html": [
       "<div>\n",
       "<style scoped>\n",
       "    .dataframe tbody tr th:only-of-type {\n",
       "        vertical-align: middle;\n",
       "    }\n",
       "\n",
       "    .dataframe tbody tr th {\n",
       "        vertical-align: top;\n",
       "    }\n",
       "\n",
       "    .dataframe thead th {\n",
       "        text-align: right;\n",
       "    }\n",
       "</style>\n",
       "<table border=\"1\" class=\"dataframe\">\n",
       "  <thead>\n",
       "    <tr style=\"text-align: right;\">\n",
       "      <th></th>\n",
       "      <th>0</th>\n",
       "      <th>1</th>\n",
       "      <th>2</th>\n",
       "      <th>3</th>\n",
       "      <th>4</th>\n",
       "      <th>5</th>\n",
       "      <th>6</th>\n",
       "      <th>7</th>\n",
       "      <th>8</th>\n",
       "      <th>9</th>\n",
       "      <th>10</th>\n",
       "      <th>11</th>\n",
       "      <th>12</th>\n",
       "    </tr>\n",
       "  </thead>\n",
       "  <tbody>\n",
       "    <tr>\n",
       "      <th>0</th>\n",
       "      <td>-0.522556</td>\n",
       "      <td>-1.112803</td>\n",
       "      <td>0.956816</td>\n",
       "      <td>-1.149198</td>\n",
       "      <td>-0.559252</td>\n",
       "      <td>-1.505052</td>\n",
       "      <td>0.071292</td>\n",
       "      <td>0.049732</td>\n",
       "      <td>0.872570</td>\n",
       "      <td>-0.417433</td>\n",
       "      <td>-0.558838</td>\n",
       "      <td>-0.356376</td>\n",
       "      <td>-0.117908</td>\n",
       "    </tr>\n",
       "    <tr>\n",
       "      <th>1</th>\n",
       "      <td>2.590381</td>\n",
       "      <td>-0.533162</td>\n",
       "      <td>1.467315</td>\n",
       "      <td>1.536614</td>\n",
       "      <td>1.345335</td>\n",
       "      <td>1.524630</td>\n",
       "      <td>1.469460</td>\n",
       "      <td>0.594801</td>\n",
       "      <td>-0.127561</td>\n",
       "      <td>-1.139650</td>\n",
       "      <td>-0.654299</td>\n",
       "      <td>-0.855773</td>\n",
       "      <td>0.281303</td>\n",
       "    </tr>\n",
       "    <tr>\n",
       "      <th>2</th>\n",
       "      <td>3.042352</td>\n",
       "      <td>-1.327521</td>\n",
       "      <td>-0.424765</td>\n",
       "      <td>1.567204</td>\n",
       "      <td>0.283814</td>\n",
       "      <td>-0.738182</td>\n",
       "      <td>0.378211</td>\n",
       "      <td>-1.397097</td>\n",
       "      <td>-0.836844</td>\n",
       "      <td>-0.450680</td>\n",
       "      <td>-0.519250</td>\n",
       "      <td>-0.896456</td>\n",
       "      <td>0.947188</td>\n",
       "    </tr>\n",
       "    <tr>\n",
       "      <th>3</th>\n",
       "      <td>-0.492522</td>\n",
       "      <td>-0.276720</td>\n",
       "      <td>0.801442</td>\n",
       "      <td>-0.984277</td>\n",
       "      <td>-0.487587</td>\n",
       "      <td>-1.438634</td>\n",
       "      <td>0.385833</td>\n",
       "      <td>-1.566671</td>\n",
       "      <td>0.085219</td>\n",
       "      <td>-0.425601</td>\n",
       "      <td>-0.989851</td>\n",
       "      <td>-0.243456</td>\n",
       "      <td>0.340277</td>\n",
       "    </tr>\n",
       "    <tr>\n",
       "      <th>4</th>\n",
       "      <td>2.187464</td>\n",
       "      <td>1.951477</td>\n",
       "      <td>-0.385539</td>\n",
       "      <td>0.295793</td>\n",
       "      <td>-2.386144</td>\n",
       "      <td>-0.563839</td>\n",
       "      <td>1.022689</td>\n",
       "      <td>1.682067</td>\n",
       "      <td>0.451377</td>\n",
       "      <td>-0.534908</td>\n",
       "      <td>-0.721091</td>\n",
       "      <td>1.069638</td>\n",
       "      <td>-0.614242</td>\n",
       "    </tr>\n",
       "  </tbody>\n",
       "</table>\n",
       "</div>"
      ],
      "text/plain": [
       "         0         1         2         3         4         5         6   \\\n",
       "0 -0.522556 -1.112803  0.956816 -1.149198 -0.559252 -1.505052  0.071292   \n",
       "1  2.590381 -0.533162  1.467315  1.536614  1.345335  1.524630  1.469460   \n",
       "2  3.042352 -1.327521 -0.424765  1.567204  0.283814 -0.738182  0.378211   \n",
       "3 -0.492522 -0.276720  0.801442 -0.984277 -0.487587 -1.438634  0.385833   \n",
       "4  2.187464  1.951477 -0.385539  0.295793 -2.386144 -0.563839  1.022689   \n",
       "\n",
       "         7         8         9         10        11        12  \n",
       "0  0.049732  0.872570 -0.417433 -0.558838 -0.356376 -0.117908  \n",
       "1  0.594801 -0.127561 -1.139650 -0.654299 -0.855773  0.281303  \n",
       "2 -1.397097 -0.836844 -0.450680 -0.519250 -0.896456  0.947188  \n",
       "3 -1.566671  0.085219 -0.425601 -0.989851 -0.243456  0.340277  \n",
       "4  1.682067  0.451377 -0.534908 -0.721091  1.069638 -0.614242  "
      ]
     },
     "execution_count": 19,
     "metadata": {},
     "output_type": "execute_result"
    }
   ],
   "source": [
    "# proces dimensional reduction dengan PCA tanpa adanya pengurangan komponen\n",
    "from sklearn.decomposition import PCA\n",
    "n_components = None\n",
    "pca = PCA(n_components=n_components)\n",
    "pca.fit(X_scaled)\n",
    "data_pca = pca.transform(X_scaled)\n",
    "data_pca = pd.DataFrame(data_pca)\n",
    "data_pca.head()"
   ]
  },
  {
   "cell_type": "code",
   "execution_count": 20,
   "metadata": {},
   "outputs": [
    {
     "name": "stdout",
     "output_type": "stream",
     "text": [
      "Variances (Percentage):\n",
      "[21.36991246 11.97195897  9.23838416  8.99403943  7.68592509  7.47956911\n",
      "  6.74178512  5.90757775  5.58414212  4.84968333  4.01735359  3.32041963\n",
      "  2.83924924]\n",
      "\n"
     ]
    }
   ],
   "source": [
    "# variasi tiap fitur pada dataset\n",
    "print(\"Variances (Percentage):\")\n",
    "print(pca.explained_variance_ratio_ * 100)\n",
    "print()"
   ]
  },
  {
   "cell_type": "code",
   "execution_count": 21,
   "metadata": {},
   "outputs": [
    {
     "name": "stdout",
     "output_type": "stream",
     "text": [
      "Variances (Percentage):\n",
      "[ 21.36991246  33.34187142  42.58025558  51.57429502  59.2602201\n",
      "  66.73978921  73.48157433  79.38915208  84.9732942   89.82297754\n",
      "  93.84033113  97.16075076 100.        ]\n",
      "\n"
     ]
    }
   ],
   "source": [
    "# jumalah variasi kumulatif dari dataset keseluruhan\n",
    "print(\"Variances (Percentage):\")\n",
    "print(pca.explained_variance_ratio_.cumsum() * 100)\n",
    "print()"
   ]
  },
  {
   "cell_type": "code",
   "execution_count": 22,
   "metadata": {},
   "outputs": [
    {
     "data": {
      "text/plain": [
       "Text(0, 0.5, 'Explained variance (%)')"
      ]
     },
     "execution_count": 22,
     "metadata": {},
     "output_type": "execute_result"
    },
    {
     "data": {
      "image/png": "[encoded data removed]",
      "text/plain": [
       "<Figure size 432x288 with 1 Axes>"
      ]
     },
     "metadata": {
      "needs_background": "light"
     },
     "output_type": "display_data"
    }
   ],
   "source": [
    "# grafik variasi kumulatif\n",
    "components = len(pca.explained_variance_ratio_)\n",
    "components = components \\\n",
    "    if components is None else components\n",
    "    \n",
    "plt.plot(range(1,components+1), \n",
    "         np.cumsum(pca.explained_variance_ratio_ * 100))\n",
    "plt.xlabel(\"Number of components\")\n",
    "plt.ylabel(\"Explained variance (%)\")"
   ]
  },
  {
   "attachments": {},
   "cell_type": "markdown",
   "metadata": {},
   "source": [
    "Sekarang coba gunakan 95% dari dataset sebagai komponen"
   ]
  },
  {
   "cell_type": "code",
   "execution_count": 23,
   "metadata": {},
   "outputs": [
    {
     "data": {
      "text/html": [
       "<div>\n",
       "<style scoped>\n",
       "    .dataframe tbody tr th:only-of-type {\n",
       "        vertical-align: middle;\n",
       "    }\n",
       "\n",
       "    .dataframe tbody tr th {\n",
       "        vertical-align: top;\n",
       "    }\n",
       "\n",
       "    .dataframe thead th {\n",
       "        text-align: right;\n",
       "    }\n",
       "</style>\n",
       "<table border=\"1\" class=\"dataframe\">\n",
       "  <thead>\n",
       "    <tr style=\"text-align: right;\">\n",
       "      <th></th>\n",
       "      <th>0</th>\n",
       "      <th>1</th>\n",
       "      <th>2</th>\n",
       "      <th>3</th>\n",
       "      <th>4</th>\n",
       "      <th>5</th>\n",
       "      <th>6</th>\n",
       "      <th>7</th>\n",
       "      <th>8</th>\n",
       "      <th>9</th>\n",
       "      <th>10</th>\n",
       "      <th>11</th>\n",
       "    </tr>\n",
       "  </thead>\n",
       "  <tbody>\n",
       "    <tr>\n",
       "      <th>0</th>\n",
       "      <td>-0.522556</td>\n",
       "      <td>-1.112803</td>\n",
       "      <td>0.956816</td>\n",
       "      <td>-1.149198</td>\n",
       "      <td>-0.559252</td>\n",
       "      <td>-1.505052</td>\n",
       "      <td>0.071292</td>\n",
       "      <td>0.049732</td>\n",
       "      <td>0.872570</td>\n",
       "      <td>-0.417433</td>\n",
       "      <td>-0.558838</td>\n",
       "      <td>-0.356376</td>\n",
       "    </tr>\n",
       "    <tr>\n",
       "      <th>1</th>\n",
       "      <td>2.590381</td>\n",
       "      <td>-0.533162</td>\n",
       "      <td>1.467315</td>\n",
       "      <td>1.536614</td>\n",
       "      <td>1.345335</td>\n",
       "      <td>1.524630</td>\n",
       "      <td>1.469460</td>\n",
       "      <td>0.594801</td>\n",
       "      <td>-0.127561</td>\n",
       "      <td>-1.139650</td>\n",
       "      <td>-0.654299</td>\n",
       "      <td>-0.855773</td>\n",
       "    </tr>\n",
       "    <tr>\n",
       "      <th>2</th>\n",
       "      <td>3.042352</td>\n",
       "      <td>-1.327521</td>\n",
       "      <td>-0.424765</td>\n",
       "      <td>1.567204</td>\n",
       "      <td>0.283814</td>\n",
       "      <td>-0.738182</td>\n",
       "      <td>0.378211</td>\n",
       "      <td>-1.397097</td>\n",
       "      <td>-0.836844</td>\n",
       "      <td>-0.450680</td>\n",
       "      <td>-0.519250</td>\n",
       "      <td>-0.896456</td>\n",
       "    </tr>\n",
       "    <tr>\n",
       "      <th>3</th>\n",
       "      <td>-0.492522</td>\n",
       "      <td>-0.276720</td>\n",
       "      <td>0.801442</td>\n",
       "      <td>-0.984277</td>\n",
       "      <td>-0.487587</td>\n",
       "      <td>-1.438634</td>\n",
       "      <td>0.385833</td>\n",
       "      <td>-1.566671</td>\n",
       "      <td>0.085219</td>\n",
       "      <td>-0.425601</td>\n",
       "      <td>-0.989851</td>\n",
       "      <td>-0.243456</td>\n",
       "    </tr>\n",
       "    <tr>\n",
       "      <th>4</th>\n",
       "      <td>2.187464</td>\n",
       "      <td>1.951477</td>\n",
       "      <td>-0.385539</td>\n",
       "      <td>0.295793</td>\n",
       "      <td>-2.386144</td>\n",
       "      <td>-0.563839</td>\n",
       "      <td>1.022689</td>\n",
       "      <td>1.682067</td>\n",
       "      <td>0.451377</td>\n",
       "      <td>-0.534908</td>\n",
       "      <td>-0.721091</td>\n",
       "      <td>1.069638</td>\n",
       "    </tr>\n",
       "  </tbody>\n",
       "</table>\n",
       "</div>"
      ],
      "text/plain": [
       "         0         1         2         3         4         5         6   \\\n",
       "0 -0.522556 -1.112803  0.956816 -1.149198 -0.559252 -1.505052  0.071292   \n",
       "1  2.590381 -0.533162  1.467315  1.536614  1.345335  1.524630  1.469460   \n",
       "2  3.042352 -1.327521 -0.424765  1.567204  0.283814 -0.738182  0.378211   \n",
       "3 -0.492522 -0.276720  0.801442 -0.984277 -0.487587 -1.438634  0.385833   \n",
       "4  2.187464  1.951477 -0.385539  0.295793 -2.386144 -0.563839  1.022689   \n",
       "\n",
       "         7         8         9         10        11  \n",
       "0  0.049732  0.872570 -0.417433 -0.558838 -0.356376  \n",
       "1  0.594801 -0.127561 -1.139650 -0.654299 -0.855773  \n",
       "2 -1.397097 -0.836844 -0.450680 -0.519250 -0.896456  \n",
       "3 -1.566671  0.085219 -0.425601 -0.989851 -0.243456  \n",
       "4  1.682067  0.451377 -0.534908 -0.721091  1.069638  "
      ]
     },
     "execution_count": 23,
     "metadata": {},
     "output_type": "execute_result"
    }
   ],
   "source": [
    "# proces dimensional reduction dengan PCA\n",
    "n_components = 0.95\n",
    "pca = PCA(n_components=n_components)\n",
    "pca.fit(X_scaled)\n",
    "data_pca = pca.transform(X_scaled)\n",
    "data_pca = pd.DataFrame(data_pca)\n",
    "data_pca.head()"
   ]
  },
  {
   "cell_type": "code",
   "execution_count": 24,
   "metadata": {},
   "outputs": [
    {
     "name": "stdout",
     "output_type": "stream",
     "text": [
      "Variances (Percentage):\n",
      "[21.36991246 11.97195897  9.23838416  8.99403943  7.68592509  7.47956911\n",
      "  6.74178512  5.90757775  5.58414212  4.84968333  4.01735359  3.32041963]\n",
      "\n"
     ]
    }
   ],
   "source": [
    "# variasi tiap fitur pada dataset\n",
    "print(\"Variances (Percentage):\")\n",
    "print(pca.explained_variance_ratio_ * 100)\n",
    "print()"
   ]
  },
  {
   "cell_type": "code",
   "execution_count": 25,
   "metadata": {},
   "outputs": [
    {
     "name": "stdout",
     "output_type": "stream",
     "text": [
      "Variances (Percentage):\n",
      "[21.36991246 33.34187142 42.58025558 51.57429502 59.2602201  66.73978921\n",
      " 73.48157433 79.38915208 84.9732942  89.82297754 93.84033113 97.16075076]\n",
      "\n"
     ]
    }
   ],
   "source": [
    "# jumalah variasi kumulatif dari dataset keseluruhan\n",
    "print(\"Variances (Percentage):\")\n",
    "print(pca.explained_variance_ratio_.cumsum() * 100)\n",
    "print()"
   ]
  },
  {
   "cell_type": "code",
   "execution_count": 26,
   "metadata": {},
   "outputs": [
    {
     "data": {
      "text/plain": [
       "Text(0, 0.5, 'Explained variance (%)')"
      ]
     },
     "execution_count": 26,
     "metadata": {},
     "output_type": "execute_result"
    },
    {
     "data": {
      "image/png": "[encoded data removed]",
      "text/plain": [
       "<Figure size 432x288 with 1 Axes>"
      ]
     },
     "metadata": {
      "needs_background": "light"
     },
     "output_type": "display_data"
    }
   ],
   "source": [
    "# grafik variasi kumulatif\n",
    "components = len(pca.explained_variance_ratio_)\n",
    "components = components \\\n",
    "    if components is None else components\n",
    "    \n",
    "plt.plot(range(1,components+1), \n",
    "         np.cumsum(pca.explained_variance_ratio_ * 100))\n",
    "plt.xlabel(\"Number of components\")\n",
    "plt.ylabel(\"Explained variance (%)\")"
   ]
  },
  {
   "attachments": {},
   "cell_type": "markdown",
   "metadata": {},
   "source": [
    "Split train test lagi untuk data yang sudah di kecilkan. Sama seperti sebelumnya, jumlah data testnya sebesar 20% dari keseluruhan dataset"
   ]
  },
  {
   "cell_type": "code",
   "execution_count": 27,
   "metadata": {},
   "outputs": [],
   "source": [
    "X_train, X_test , y_train , y_test = train_test_split (data_pca, y, test_size = 0.2, random_state =0)"
   ]
  },
  {
   "cell_type": "code",
   "execution_count": 28,
   "metadata": {},
   "outputs": [
    {
     "name": "stdout",
     "output_type": "stream",
     "text": [
      "[0.82926829 0.87804878 0.82926829 0.80487805 0.81707317 0.75609756\n",
      " 0.80487805 0.80487805 0.82926829 0.84146341]\n",
      "Naive Bayes: 0.819512 (0.029772)\n",
      "[0.90243902 0.91463415 0.8902439  0.90243902 0.87804878 0.90243902\n",
      " 0.8902439  0.91463415 0.84146341 0.93902439]\n",
      "SVM: 0.897561 (0.024512)\n",
      "[0.82926829 0.85365854 0.86585366 0.81707317 0.85365854 0.84146341\n",
      " 0.7804878  0.80487805 0.80487805 0.86585366]\n",
      "KNN: 0.831707 (0.027702)\n",
      "[0.95121951 0.91463415 0.92682927 0.93902439 0.91463415 0.96341463\n",
      " 0.91463415 0.93902439 0.92682927 0.97560976]\n",
      "Neural Network: 0.936585 (0.020260)\n"
     ]
    }
   ],
   "source": [
    "# implementasi cross validation untuk data yang dikecilkan\n",
    "results = []\n",
    "names = []\n",
    "\n",
    "for name, model in models:\n",
    "  kfold = model_selection.KFold(n_splits=10, random_state=5, shuffle=True)\n",
    "  cv_res = model_selection.cross_val_score(model, X_train, y_train, cv=kfold, scoring='accuracy')\n",
    "  print(cv_res)\n",
    "  results.append(cv_res)\n",
    "  names.append(name)\n",
    "  msg = '%s: %f (%f)' % (name, cv_res.mean(), cv_res.std())\n",
    "  print(msg)"
   ]
  },
  {
   "attachments": {},
   "cell_type": "markdown",
   "metadata": {},
   "source": [
    "sama seperti saat sebelum dikecilkan. Neural Network masih memiliki akurasi yang paling tinggi, yaitu diatas 90%"
   ]
  },
  {
   "cell_type": "code",
   "execution_count": 29,
   "metadata": {},
   "outputs": [
    {
     "data": {
      "image/png": "[encoded data removed]",
      "text/plain": [
       "<Figure size 432x288 with 1 Axes>"
      ]
     },
     "metadata": {
      "needs_background": "light"
     },
     "output_type": "display_data"
    }
   ],
   "source": [
    "# visualisasi box plot untuk hasil akurasi tiap algoritma\n",
    "fig = plt.figure()\n",
    "fig.suptitle('Perbandingan')\n",
    "ax = fig.add_subplot(111)\n",
    "plt.boxplot(results)\n",
    "ax.set_xticklabels(names)\n",
    "plt.show()"
   ]
  },
  {
   "cell_type": "code",
   "execution_count": 32,
   "metadata": {},
   "outputs": [
    {
     "name": "stdout",
     "output_type": "stream",
     "text": [
      "Naive Bayes :\n",
      "Accuracy:  0.8439024390243902\n"
     ]
    },
    {
     "data": {
      "image/png": "[encoded data removed]",
      "text/plain": [
       "<Figure size 432x288 with 2 Axes>"
      ]
     },
     "metadata": {
      "needs_background": "light"
     },
     "output_type": "display_data"
    },
    {
     "name": "stdout",
     "output_type": "stream",
     "text": [
      "Precision:  0.8048780487804879\n",
      "Recall:  0.9252336448598131\n",
      "F1:  0.8608695652173913\n",
      "              precision    recall  f1-score   support\n",
      "\n",
      "           0       0.90      0.76      0.82        98\n",
      "           1       0.80      0.93      0.86       107\n",
      "\n",
      "    accuracy                           0.84       205\n",
      "   macro avg       0.85      0.84      0.84       205\n",
      "weighted avg       0.85      0.84      0.84       205\n",
      "\n",
      "SVM :\n",
      "Accuracy:  0.9560975609756097\n"
     ]
    },
    {
     "data": {
      "image/png": "[encoded data removed]",
      "text/plain": [
       "<Figure size 432x288 with 2 Axes>"
      ]
     },
     "metadata": {
      "needs_background": "light"
     },
     "output_type": "display_data"
    },
    {
     "name": "stdout",
     "output_type": "stream",
     "text": [
      "Precision:  0.9454545454545454\n",
      "Recall:  0.9719626168224299\n",
      "F1:  0.9585253456221198\n",
      "              precision    recall  f1-score   support\n",
      "\n",
      "           0       0.97      0.94      0.95        98\n",
      "           1       0.95      0.97      0.96       107\n",
      "\n",
      "    accuracy                           0.96       205\n",
      "   macro avg       0.96      0.96      0.96       205\n",
      "weighted avg       0.96      0.96      0.96       205\n",
      "\n",
      "KNN :\n",
      "Accuracy:  0.8731707317073171\n"
     ]
    },
    {
     "data": {
      "image/png": "[encoded data removed]",
      "text/plain": [
       "<Figure size 432x288 with 2 Axes>"
      ]
     },
     "metadata": {
      "needs_background": "light"
     },
     "output_type": "display_data"
    },
    {
     "name": "stdout",
     "output_type": "stream",
     "text": [
      "Precision:  0.8785046728971962\n",
      "Recall:  0.8785046728971962\n",
      "F1:  0.8785046728971962\n",
      "              precision    recall  f1-score   support\n",
      "\n",
      "           0       0.87      0.87      0.87        98\n",
      "           1       0.88      0.88      0.88       107\n",
      "\n",
      "    accuracy                           0.87       205\n",
      "   macro avg       0.87      0.87      0.87       205\n",
      "weighted avg       0.87      0.87      0.87       205\n",
      "\n",
      "Neural Network :\n",
      "Accuracy:  0.9707317073170731\n"
     ]
    },
    {
     "data": {
      "image/png": "[encoded data removed]",
      "text/plain": [
       "<Figure size 432x288 with 2 Axes>"
      ]
     },
     "metadata": {
      "needs_background": "light"
     },
     "output_type": "display_data"
    },
    {
     "name": "stdout",
     "output_type": "stream",
     "text": [
      "Precision:  1.0\n",
      "Recall:  0.9439252336448598\n",
      "F1:  0.9711538461538461\n",
      "              precision    recall  f1-score   support\n",
      "\n",
      "           0       0.94      1.00      0.97        98\n",
      "           1       1.00      0.94      0.97       107\n",
      "\n",
      "    accuracy                           0.97       205\n",
      "   macro avg       0.97      0.97      0.97       205\n",
      "weighted avg       0.97      0.97      0.97       205\n",
      "\n"
     ]
    }
   ],
   "source": [
    "# proses uji data untuk setiap algoritma yang digunakan dan mencari akurasi, precision, recall, dan f1-scorenya\n",
    "for name, model in models:\n",
    "  model.fit(X_train, y_train)\n",
    "  y_pred = model.predict(X_test)\n",
    "  print(name, \":\")\n",
    "  print('Accuracy: ', accuracy_score(y_test, y_pred))\n",
    "  cm = confusion_matrix(y_test, y_pred)\n",
    "  ax = sns.heatmap(cm, annot=True, fmt=\"d\", xticklabels=['Tidak', 'Iya'], yticklabels=['Tidak', 'Iya'])\n",
    "  ax.set_xlabel('Actual')\n",
    "  ax.set_ylabel('Predicted')\n",
    "  plt.show()\n",
    "  print('Precision: ', precision_score(y_test, y_pred))\n",
    "  print('Recall: ', recall_score(y_test, y_pred))\n",
    "  print('F1: ',  f1_score(y_test, y_pred))\n",
    "  print(classification_report(y_test, y_pred))"
   ]
  },
  {
   "cell_type": "code",
   "execution_count": null,
   "metadata": {},
   "outputs": [],
   "source": []
  }
 ],
 "metadata": {
  "kernelspec": {
   "display_name": "Python 3",
   "language": "python",
   "name": "python3"
  },
  "language_info": {
   "codemirror_mode": {
    "name": "ipython",
    "version": 3
   },
   "file_extension": ".py",
   "mimetype": "text/x-python",
   "name": "python",
   "nbconvert_exporter": "python",
   "pygments_lexer": "ipython3",
   "version": "3.10.0"
  },
  "orig_nbformat": 4
 },
 "nbformat": 4,
 "nbformat_minor": 2
}
